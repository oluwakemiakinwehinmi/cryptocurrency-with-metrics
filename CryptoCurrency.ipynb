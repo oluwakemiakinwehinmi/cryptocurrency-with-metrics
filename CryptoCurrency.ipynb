{
 "cells": [
  {
   "cell_type": "code",
   "execution_count": 4,
   "metadata": {
    "colab": {
     "base_uri": "https://localhost:8080/",
     "height": 109
    },
    "executionInfo": {
     "elapsed": 3967,
     "status": "ok",
     "timestamp": 1582898200510,
     "user": {
      "displayName": "Data Love",
      "photoUrl": "",
      "userId": "10408666643734934607"
     },
     "user_tz": -60
    },
    "id": "RGt3_65j_n-_",
    "outputId": "b81eb1d0-5fb7-4cb5-e757-c9fe9c514379"
   },
   "outputs": [],
   "source": [
    "#%tensorflow_version 1.14\n",
    "import json\n",
    "import requests\n",
    "from keras.models import Sequential\n",
    "from keras.layers import Activation, Dense, Dropout, LSTM\n",
    "import matplotlib.pyplot as plt\n",
    "import numpy as np\n",
    "import pandas as pd\n",
    "import seaborn as sns\n",
    "from sklearn.metrics import mean_absolute_error\n",
    "%matplotlib inline"
   ]
  },
  {
   "cell_type": "code",
   "execution_count": 5,
   "metadata": {
    "id": "qjpr3ybo_DZY"
   },
   "outputs": [],
   "source": [
    "endpoint = 'https://min-api.cryptocompare.com/data/histoday'\n",
    "res = requests.get(endpoint + '?fsym=BTC&tsym=NGN&limit=1000')\n",
    "hist = pd.DataFrame(json.loads(res.content)['Data'])\n",
    "hist = hist.set_index('time')\n",
    "hist.index = pd.to_datetime(hist.index, unit='s')\n",
    "target_col = 'close'\n"
   ]
  },
  {
   "cell_type": "code",
   "execution_count": 6,
   "metadata": {
    "colab": {
     "base_uri": "https://localhost:8080/",
     "height": 455
    },
    "executionInfo": {
     "elapsed": 7511,
     "status": "ok",
     "timestamp": 1582898204272,
     "user": {
      "displayName": "Data Love",
      "photoUrl": "",
      "userId": "10408666643734934607"
     },
     "user_tz": -60
    },
    "id": "9hvuxwvuDcEB",
    "outputId": "4f9847a7-34d0-4394-ea7f-65f893f042b4"
   },
   "outputs": [
    {
     "data": {
      "text/html": [
       "<div>\n",
       "<style scoped>\n",
       "    .dataframe tbody tr th:only-of-type {\n",
       "        vertical-align: middle;\n",
       "    }\n",
       "\n",
       "    .dataframe tbody tr th {\n",
       "        vertical-align: top;\n",
       "    }\n",
       "\n",
       "    .dataframe thead th {\n",
       "        text-align: right;\n",
       "    }\n",
       "</style>\n",
       "<table border=\"1\" class=\"dataframe\">\n",
       "  <thead>\n",
       "    <tr style=\"text-align: right;\">\n",
       "      <th></th>\n",
       "      <th>high</th>\n",
       "      <th>low</th>\n",
       "      <th>open</th>\n",
       "      <th>volumefrom</th>\n",
       "      <th>volumeto</th>\n",
       "      <th>close</th>\n",
       "      <th>conversionType</th>\n",
       "      <th>conversionSymbol</th>\n",
       "    </tr>\n",
       "    <tr>\n",
       "      <th>time</th>\n",
       "      <th></th>\n",
       "      <th></th>\n",
       "      <th></th>\n",
       "      <th></th>\n",
       "      <th></th>\n",
       "      <th></th>\n",
       "      <th></th>\n",
       "      <th></th>\n",
       "    </tr>\n",
       "  </thead>\n",
       "  <tbody>\n",
       "    <tr>\n",
       "      <th>2018-04-27</th>\n",
       "      <td>3401110.49</td>\n",
       "      <td>3034374.13</td>\n",
       "      <td>3289582.21</td>\n",
       "      <td>184.75</td>\n",
       "      <td>6.103485e+08</td>\n",
       "      <td>3126600.35</td>\n",
       "      <td>direct</td>\n",
       "      <td></td>\n",
       "    </tr>\n",
       "    <tr>\n",
       "      <th>2018-04-28</th>\n",
       "      <td>3398542.07</td>\n",
       "      <td>3172900.01</td>\n",
       "      <td>3189910.75</td>\n",
       "      <td>121.10</td>\n",
       "      <td>4.003565e+08</td>\n",
       "      <td>3297446.24</td>\n",
       "      <td>direct</td>\n",
       "      <td></td>\n",
       "    </tr>\n",
       "    <tr>\n",
       "      <th>2018-04-29</th>\n",
       "      <td>3417804.86</td>\n",
       "      <td>3284121.55</td>\n",
       "      <td>3297446.24</td>\n",
       "      <td>89.76</td>\n",
       "      <td>3.011577e+08</td>\n",
       "      <td>3362741.40</td>\n",
       "      <td>direct</td>\n",
       "      <td></td>\n",
       "    </tr>\n",
       "    <tr>\n",
       "      <th>2018-04-30</th>\n",
       "      <td>3391125.54</td>\n",
       "      <td>3320862.71</td>\n",
       "      <td>3362741.40</td>\n",
       "      <td>91.41</td>\n",
       "      <td>3.052090e+08</td>\n",
       "      <td>3341999.81</td>\n",
       "      <td>direct</td>\n",
       "      <td></td>\n",
       "    </tr>\n",
       "    <tr>\n",
       "      <th>2018-05-01</th>\n",
       "      <td>3359627.49</td>\n",
       "      <td>3262824.00</td>\n",
       "      <td>3341984.93</td>\n",
       "      <td>99.82</td>\n",
       "      <td>3.266657e+08</td>\n",
       "      <td>3283400.00</td>\n",
       "      <td>direct</td>\n",
       "      <td></td>\n",
       "    </tr>\n",
       "    <tr>\n",
       "      <th>...</th>\n",
       "      <td>...</td>\n",
       "      <td>...</td>\n",
       "      <td>...</td>\n",
       "      <td>...</td>\n",
       "      <td>...</td>\n",
       "      <td>...</td>\n",
       "      <td>...</td>\n",
       "      <td>...</td>\n",
       "    </tr>\n",
       "    <tr>\n",
       "      <th>2021-01-16</th>\n",
       "      <td>18347222.69</td>\n",
       "      <td>17124574.73</td>\n",
       "      <td>17844014.41</td>\n",
       "      <td>614.12</td>\n",
       "      <td>1.095922e+10</td>\n",
       "      <td>17427361.27</td>\n",
       "      <td>direct</td>\n",
       "      <td></td>\n",
       "    </tr>\n",
       "    <tr>\n",
       "      <th>2021-01-17</th>\n",
       "      <td>17781514.70</td>\n",
       "      <td>16530497.27</td>\n",
       "      <td>17427361.27</td>\n",
       "      <td>531.57</td>\n",
       "      <td>9.154893e+09</td>\n",
       "      <td>17324402.56</td>\n",
       "      <td>direct</td>\n",
       "      <td></td>\n",
       "    </tr>\n",
       "    <tr>\n",
       "      <th>2021-01-18</th>\n",
       "      <td>18000577.98</td>\n",
       "      <td>16906387.76</td>\n",
       "      <td>17324402.56</td>\n",
       "      <td>560.83</td>\n",
       "      <td>9.811468e+09</td>\n",
       "      <td>17631256.90</td>\n",
       "      <td>direct</td>\n",
       "      <td></td>\n",
       "    </tr>\n",
       "    <tr>\n",
       "      <th>2021-01-19</th>\n",
       "      <td>18251430.22</td>\n",
       "      <td>17414603.56</td>\n",
       "      <td>17631256.90</td>\n",
       "      <td>737.27</td>\n",
       "      <td>1.312553e+10</td>\n",
       "      <td>17470802.35</td>\n",
       "      <td>direct</td>\n",
       "      <td></td>\n",
       "    </tr>\n",
       "    <tr>\n",
       "      <th>2021-01-20</th>\n",
       "      <td>17580371.56</td>\n",
       "      <td>16461980.47</td>\n",
       "      <td>17470802.35</td>\n",
       "      <td>661.39</td>\n",
       "      <td>1.124329e+10</td>\n",
       "      <td>17183578.19</td>\n",
       "      <td>direct</td>\n",
       "      <td></td>\n",
       "    </tr>\n",
       "  </tbody>\n",
       "</table>\n",
       "<p>1000 rows × 8 columns</p>\n",
       "</div>"
      ],
      "text/plain": [
       "                   high          low         open  volumefrom      volumeto  \\\n",
       "time                                                                          \n",
       "2018-04-27   3401110.49   3034374.13   3289582.21      184.75  6.103485e+08   \n",
       "2018-04-28   3398542.07   3172900.01   3189910.75      121.10  4.003565e+08   \n",
       "2018-04-29   3417804.86   3284121.55   3297446.24       89.76  3.011577e+08   \n",
       "2018-04-30   3391125.54   3320862.71   3362741.40       91.41  3.052090e+08   \n",
       "2018-05-01   3359627.49   3262824.00   3341984.93       99.82  3.266657e+08   \n",
       "...                 ...          ...          ...         ...           ...   \n",
       "2021-01-16  18347222.69  17124574.73  17844014.41      614.12  1.095922e+10   \n",
       "2021-01-17  17781514.70  16530497.27  17427361.27      531.57  9.154893e+09   \n",
       "2021-01-18  18000577.98  16906387.76  17324402.56      560.83  9.811468e+09   \n",
       "2021-01-19  18251430.22  17414603.56  17631256.90      737.27  1.312553e+10   \n",
       "2021-01-20  17580371.56  16461980.47  17470802.35      661.39  1.124329e+10   \n",
       "\n",
       "                  close conversionType conversionSymbol  \n",
       "time                                                     \n",
       "2018-04-27   3126600.35         direct                   \n",
       "2018-04-28   3297446.24         direct                   \n",
       "2018-04-29   3362741.40         direct                   \n",
       "2018-04-30   3341999.81         direct                   \n",
       "2018-05-01   3283400.00         direct                   \n",
       "...                 ...            ...              ...  \n",
       "2021-01-16  17427361.27         direct                   \n",
       "2021-01-17  17324402.56         direct                   \n",
       "2021-01-18  17631256.90         direct                   \n",
       "2021-01-19  17470802.35         direct                   \n",
       "2021-01-20  17183578.19         direct                   \n",
       "\n",
       "[1000 rows x 8 columns]"
      ]
     },
     "execution_count": 6,
     "metadata": {},
     "output_type": "execute_result"
    }
   ],
   "source": [
    "hist.head(1000)"
   ]
  },
  {
   "cell_type": "code",
   "execution_count": 19,
   "metadata": {},
   "outputs": [],
   "source": [
    "hist.drop('conversionType',inplace=True,axis=1)\n",
    "hist.drop('conversionSymbol',inplace=True,axis=1)"
   ]
  },
  {
   "cell_type": "code",
   "execution_count": 20,
   "metadata": {
    "colab": {
     "base_uri": "https://localhost:8080/",
     "height": 127
    },
    "executionInfo": {
     "elapsed": 7405,
     "status": "ok",
     "timestamp": 1582898204282,
     "user": {
      "displayName": "Data Love",
      "photoUrl": "",
      "userId": "10408666643734934607"
     },
     "user_tz": -60
    },
    "id": "G573AAWQxldI",
    "outputId": "336b332f-74f0-4c02-9637-a5fa0f2af91f"
   },
   "outputs": [
    {
     "name": "stdout",
     "output_type": "stream",
     "text": [
      "high\n",
      "low\n",
      "open\n",
      "volumefrom\n",
      "volumeto\n",
      "close\n"
     ]
    }
   ],
   "source": [
    "for col in hist.columns: \n",
    "    print(col) "
   ]
  },
  {
   "cell_type": "code",
   "execution_count": 21,
   "metadata": {
    "id": "ZUI243XqL-kw"
   },
   "outputs": [],
   "source": [
    "def train_test_split(df, test_size=0.2):\n",
    "    split_row = len(df) - int(test_size * len(df))\n",
    "    train_data = df.iloc[:split_row]\n",
    "    test_data = df.iloc[split_row:]\n",
    "    return train_data, test_data\n",
    "train,test = train_test_split(hist, test_size=0.2)"
   ]
  },
  {
   "cell_type": "code",
   "execution_count": 22,
   "metadata": {
    "colab": {
     "base_uri": "https://localhost:8080/",
     "height": 428
    },
    "executionInfo": {
     "elapsed": 7236,
     "status": "ok",
     "timestamp": 1582898204304,
     "user": {
      "displayName": "Data Love",
      "photoUrl": "",
      "userId": "10408666643734934607"
     },
     "user_tz": -60
    },
    "id": "ntonwk-rM3lH",
    "outputId": "82695990-647c-4b1e-c822-c38470eb8921"
   },
   "outputs": [
    {
     "data": {
      "image/png": "[encoded data removed]",
      "text/plain": [
       "<Figure size 936x504 with 1 Axes>"
      ]
     },
     "metadata": {
      "needs_background": "light"
     },
     "output_type": "display_data"
    }
   ],
   "source": [
    "def line_plot(line1, line2, label1=None, label2=None, title='', lw=2):\n",
    "    fig, ax = plt.subplots(1, figsize=(13, 7))\n",
    "    ax.plot(line1, label=label1, linewidth=lw)\n",
    "    ax.plot(line2, label=label2, linewidth=lw)\n",
    "    ax.set_ylabel('price [NGN]', fontsize=14)\n",
    "    ax.set_title(title, fontsize=16)\n",
    "    ax.legend(loc='best', fontsize=16)\n",
    "line_plot(train[target_col], test[target_col], 'training', 'test', title='')"
   ]
  },
  {
   "cell_type": "code",
   "execution_count": 23,
   "metadata": {
    "id": "1GKyDScmn9z4"
   },
   "outputs": [],
   "source": [
    "def normalise_zero_base(df):\n",
    "    return df / df.iloc[0] - 1\n",
    "\n",
    "def normalise_min_max(df):\n",
    "    return (df - df.min()) / (data.max() - df.min())"
   ]
  },
  {
   "cell_type": "code",
   "execution_count": 24,
   "metadata": {
    "id": "x7uvC7OKrBue"
   },
   "outputs": [],
   "source": [
    "def extract_window_data(df, window_len=5, zero_base=True):\n",
    "    window_data = []\n",
    "    for idx in range(len(df) - window_len):\n",
    "        tmp = df[idx: (idx + window_len)].copy()\n",
    "        if zero_base:\n",
    "            tmp = normalise_zero_base(tmp)\n",
    "        window_data.append(tmp.values)\n",
    "    return np.array(window_data)"
   ]
  },
  {
   "cell_type": "code",
   "execution_count": 25,
   "metadata": {
    "id": "BLSTvrO5rUmP"
   },
   "outputs": [],
   "source": [
    "def prepare_data(df, target_col, window_len=10, zero_base=True, test_size=0.2):\n",
    "    train_data, test_data = train_test_split(df, test_size=test_size)\n",
    "    X_train = extract_window_data(train_data, window_len, zero_base)\n",
    "    X_test = extract_window_data(test_data, window_len, zero_base)\n",
    "    y_train = train_data[target_col][window_len:].values\n",
    "    y_test = test_data[target_col][window_len:].values\n",
    "    if zero_base:\n",
    "        y_train = y_train / train_data[target_col][:-window_len].values - 1\n",
    "        y_test = y_test / test_data[target_col][:-window_len].values - 1\n",
    "\n",
    "    return train_data, test_data, X_train, X_test, y_train, y_test"
   ]
  },
  {
   "cell_type": "code",
   "execution_count": 26,
   "metadata": {
    "id": "14BQCRksrfyj"
   },
   "outputs": [],
   "source": [
    "def build_lstm_model(input_data, output_size, neurons=100, activ_func='linear', dropout=0.2, loss='mse', optimizer='adam'):\n",
    "    model = Sequential()\n",
    "    model.add(LSTM(neurons, input_shape=(input_data.shape[1], input_data.shape[2])))\n",
    "    model.add(Dropout(dropout))\n",
    "    model.add(Dense(units=output_size))\n",
    "    model.add(Activation(activ_func))\n",
    "    model.compile(loss=loss, optimizer=optimizer)\n",
    "    return model"
   ]
  },
  {
   "cell_type": "code",
   "execution_count": 27,
   "metadata": {
    "id": "sLJLyIuGrpRB"
   },
   "outputs": [],
   "source": [
    "np.random.seed(42)\n",
    "window_len = 5\n",
    "test_size = 0.2\n",
    "zero_base = True\n",
    "lstm_neurons = 100\n",
    "epochs = 50\n",
    "batch_size = 32\n",
    "loss = 'mse'\n",
    "dropout = 0.2\n",
    "optimizer = 'adam'"
   ]
  },
  {
   "cell_type": "code",
   "execution_count": 28,
   "metadata": {},
   "outputs": [
    {
     "data": {
      "text/html": [
       "<div>\n",
       "<style scoped>\n",
       "    .dataframe tbody tr th:only-of-type {\n",
       "        vertical-align: middle;\n",
       "    }\n",
       "\n",
       "    .dataframe tbody tr th {\n",
       "        vertical-align: top;\n",
       "    }\n",
       "\n",
       "    .dataframe thead th {\n",
       "        text-align: right;\n",
       "    }\n",
       "</style>\n",
       "<table border=\"1\" class=\"dataframe\">\n",
       "  <thead>\n",
       "    <tr style=\"text-align: right;\">\n",
       "      <th></th>\n",
       "      <th>high</th>\n",
       "      <th>low</th>\n",
       "      <th>open</th>\n",
       "      <th>volumefrom</th>\n",
       "      <th>volumeto</th>\n",
       "      <th>close</th>\n",
       "    </tr>\n",
       "    <tr>\n",
       "      <th>time</th>\n",
       "      <th></th>\n",
       "      <th></th>\n",
       "      <th></th>\n",
       "      <th></th>\n",
       "      <th></th>\n",
       "      <th></th>\n",
       "    </tr>\n",
       "  </thead>\n",
       "  <tbody>\n",
       "    <tr>\n",
       "      <th>2018-04-27</th>\n",
       "      <td>3401110.49</td>\n",
       "      <td>3034374.13</td>\n",
       "      <td>3289582.21</td>\n",
       "      <td>184.75</td>\n",
       "      <td>6.103485e+08</td>\n",
       "      <td>3126600.35</td>\n",
       "    </tr>\n",
       "    <tr>\n",
       "      <th>2018-04-28</th>\n",
       "      <td>3398542.07</td>\n",
       "      <td>3172900.01</td>\n",
       "      <td>3189910.75</td>\n",
       "      <td>121.10</td>\n",
       "      <td>4.003565e+08</td>\n",
       "      <td>3297446.24</td>\n",
       "    </tr>\n",
       "    <tr>\n",
       "      <th>2018-04-29</th>\n",
       "      <td>3417804.86</td>\n",
       "      <td>3284121.55</td>\n",
       "      <td>3297446.24</td>\n",
       "      <td>89.76</td>\n",
       "      <td>3.011577e+08</td>\n",
       "      <td>3362741.40</td>\n",
       "    </tr>\n",
       "    <tr>\n",
       "      <th>2018-04-30</th>\n",
       "      <td>3391125.54</td>\n",
       "      <td>3320862.71</td>\n",
       "      <td>3362741.40</td>\n",
       "      <td>91.41</td>\n",
       "      <td>3.052090e+08</td>\n",
       "      <td>3341999.81</td>\n",
       "    </tr>\n",
       "    <tr>\n",
       "      <th>2018-05-01</th>\n",
       "      <td>3359627.49</td>\n",
       "      <td>3262824.00</td>\n",
       "      <td>3341984.93</td>\n",
       "      <td>99.82</td>\n",
       "      <td>3.266657e+08</td>\n",
       "      <td>3283400.00</td>\n",
       "    </tr>\n",
       "  </tbody>\n",
       "</table>\n",
       "</div>"
      ],
      "text/plain": [
       "                  high         low        open  volumefrom      volumeto  \\\n",
       "time                                                                       \n",
       "2018-04-27  3401110.49  3034374.13  3289582.21      184.75  6.103485e+08   \n",
       "2018-04-28  3398542.07  3172900.01  3189910.75      121.10  4.003565e+08   \n",
       "2018-04-29  3417804.86  3284121.55  3297446.24       89.76  3.011577e+08   \n",
       "2018-04-30  3391125.54  3320862.71  3362741.40       91.41  3.052090e+08   \n",
       "2018-05-01  3359627.49  3262824.00  3341984.93       99.82  3.266657e+08   \n",
       "\n",
       "                 close  \n",
       "time                    \n",
       "2018-04-27  3126600.35  \n",
       "2018-04-28  3297446.24  \n",
       "2018-04-29  3362741.40  \n",
       "2018-04-30  3341999.81  \n",
       "2018-05-01  3283400.00  "
      ]
     },
     "execution_count": 28,
     "metadata": {},
     "output_type": "execute_result"
    }
   ],
   "source": [
    "train.head()"
   ]
  },
  {
   "cell_type": "code",
   "execution_count": 29,
   "metadata": {
    "id": "uIRmtIoetkC8"
   },
   "outputs": [],
   "source": [
    "train, test, X_train, X_test, y_train, y_test = prepare_data(\n",
    "    hist, target_col, window_len=window_len, zero_base=zero_base, test_size=test_size)\n"
   ]
  },
  {
   "cell_type": "code",
   "execution_count": 30,
   "metadata": {
    "colab": {
     "base_uri": "https://localhost:8080/",
     "height": 1000
    },
    "executionInfo": {
     "elapsed": 24788,
     "status": "ok",
     "timestamp": 1582898222569,
     "user": {
      "displayName": "Data Love",
      "photoUrl": "",
      "userId": "10408666643734934607"
     },
     "user_tz": -60
    },
    "id": "ld3TSLmNrseS",
    "outputId": "32c60a98-9fed-46e5-8f1e-92061f5cbaf1"
   },
   "outputs": [
    {
     "name": "stdout",
     "output_type": "stream",
     "text": [
      "Epoch 1/50\n",
      "25/25 [==============================] - 4s 9ms/step - loss: 0.0090\n",
      "Epoch 2/50\n",
      "25/25 [==============================] - 0s 8ms/step - loss: 0.0042\n",
      "Epoch 3/50\n",
      "25/25 [==============================] - 0s 6ms/step - loss: 0.0034\n",
      "Epoch 4/50\n",
      "25/25 [==============================] - 0s 6ms/step - loss: 0.0036\n",
      "Epoch 5/50\n",
      "25/25 [==============================] - 0s 8ms/step - loss: 0.0031\n",
      "Epoch 6/50\n",
      "25/25 [==============================] - 0s 9ms/step - loss: 0.0030\n",
      "Epoch 7/50\n",
      "25/25 [==============================] - 0s 7ms/step - loss: 0.0023\n",
      "Epoch 8/50\n",
      "25/25 [==============================] - 0s 6ms/step - loss: 0.0024\n",
      "Epoch 9/50\n",
      "25/25 [==============================] - 0s 7ms/step - loss: 0.0022\n",
      "Epoch 10/50\n",
      "25/25 [==============================] - 0s 6ms/step - loss: 0.0022\n",
      "Epoch 11/50\n",
      "25/25 [==============================] - 0s 6ms/step - loss: 0.0021\n",
      "Epoch 12/50\n",
      "25/25 [==============================] - 0s 6ms/step - loss: 0.0021\n",
      "Epoch 13/50\n",
      "25/25 [==============================] - 0s 6ms/step - loss: 0.0020\n",
      "Epoch 14/50\n",
      "25/25 [==============================] - 0s 6ms/step - loss: 0.0020\n",
      "Epoch 15/50\n",
      "25/25 [==============================] - 0s 7ms/step - loss: 0.0015\n",
      "Epoch 16/50\n",
      "25/25 [==============================] - 0s 7ms/step - loss: 0.0022\n",
      "Epoch 17/50\n",
      "25/25 [==============================] - 0s 8ms/step - loss: 0.0017\n",
      "Epoch 18/50\n",
      "25/25 [==============================] - 0s 6ms/step - loss: 0.0019\n",
      "Epoch 19/50\n",
      "25/25 [==============================] - 0s 8ms/step - loss: 0.0018\n",
      "Epoch 20/50\n",
      "25/25 [==============================] - 0s 6ms/step - loss: 0.0016\n",
      "Epoch 21/50\n",
      "25/25 [==============================] - 0s 6ms/step - loss: 0.0017\n",
      "Epoch 22/50\n",
      "25/25 [==============================] - 0s 6ms/step - loss: 0.0015\n",
      "Epoch 23/50\n",
      "25/25 [==============================] - 0s 8ms/step - loss: 0.0015\n",
      "Epoch 24/50\n",
      "25/25 [==============================] - 0s 8ms/step - loss: 0.0014\n",
      "Epoch 25/50\n",
      "25/25 [==============================] - 0s 8ms/step - loss: 0.0015\n",
      "Epoch 26/50\n",
      "25/25 [==============================] - 0s 8ms/step - loss: 0.0015\n",
      "Epoch 27/50\n",
      "25/25 [==============================] - 0s 8ms/step - loss: 0.0016\n",
      "Epoch 28/50\n",
      "25/25 [==============================] - 0s 7ms/step - loss: 0.0017\n",
      "Epoch 29/50\n",
      "25/25 [==============================] - 0s 7ms/step - loss: 0.0017\n",
      "Epoch 30/50\n",
      "25/25 [==============================] - 0s 7ms/step - loss: 0.0017\n",
      "Epoch 31/50\n",
      "25/25 [==============================] - 0s 8ms/step - loss: 0.0013\n",
      "Epoch 32/50\n",
      "25/25 [==============================] - 0s 8ms/step - loss: 0.0016\n",
      "Epoch 33/50\n",
      "25/25 [==============================] - 0s 7ms/step - loss: 0.0012\n",
      "Epoch 34/50\n",
      "25/25 [==============================] - 0s 8ms/step - loss: 0.0013\n",
      "Epoch 35/50\n",
      "25/25 [==============================] - 0s 8ms/step - loss: 0.0016\n",
      "Epoch 36/50\n",
      "25/25 [==============================] - 0s 8ms/step - loss: 0.0015\n",
      "Epoch 37/50\n",
      "25/25 [==============================] - 0s 8ms/step - loss: 0.0017\n",
      "Epoch 38/50\n",
      "25/25 [==============================] - 0s 6ms/step - loss: 0.0014\n",
      "Epoch 39/50\n",
      "25/25 [==============================] - 0s 7ms/step - loss: 0.0014\n",
      "Epoch 40/50\n",
      "25/25 [==============================] - 0s 7ms/step - loss: 0.0015\n",
      "Epoch 41/50\n",
      "25/25 [==============================] - 0s 8ms/step - loss: 0.0014\n",
      "Epoch 42/50\n",
      "25/25 [==============================] - 0s 8ms/step - loss: 0.0017\n",
      "Epoch 43/50\n",
      "25/25 [==============================] - 0s 8ms/step - loss: 0.0016\n",
      "Epoch 44/50\n",
      "25/25 [==============================] - 0s 8ms/step - loss: 0.0014\n",
      "Epoch 45/50\n",
      "25/25 [==============================] - 0s 9ms/step - loss: 0.0015\n",
      "Epoch 46/50\n",
      "25/25 [==============================] - 0s 9ms/step - loss: 0.0014\n",
      "Epoch 47/50\n",
      "25/25 [==============================] - 0s 8ms/step - loss: 0.0016\n",
      "Epoch 48/50\n",
      "25/25 [==============================] - 0s 8ms/step - loss: 0.0014\n",
      "Epoch 49/50\n",
      "25/25 [==============================] - 0s 7ms/step - loss: 0.0014\n",
      "Epoch 50/50\n",
      "25/25 [==============================] - 0s 8ms/step - loss: 0.0012\n"
     ]
    }
   ],
   "source": [
    "model = build_lstm_model(\n",
    "    X_train, output_size=1, neurons=lstm_neurons, dropout=dropout, loss=loss,\n",
    "    optimizer=optimizer)\n",
    "history = model.fit(\n",
    "    X_train, y_train, epochs=epochs, batch_size=batch_size, verbose=1, shuffle=True)"
   ]
  },
  {
   "cell_type": "markdown",
   "metadata": {},
   "source": [
    "## Metrics"
   ]
  },
  {
   "cell_type": "code",
   "execution_count": 39,
   "metadata": {
    "colab": {
     "base_uri": "https://localhost:8080/",
     "height": 35
    },
    "executionInfo": {
     "elapsed": 26234,
     "status": "ok",
     "timestamp": 1582898224074,
     "user": {
      "displayName": "Data Love",
      "photoUrl": "",
      "userId": "10408666643734934607"
     },
     "user_tz": -60
    },
    "id": "U-TLpPXEvp3i",
    "outputId": "ef9ec895-7f16-460e-d081-8fa2abae4677"
   },
   "outputs": [
    {
     "name": "stdout",
     "output_type": "stream",
     "text": [
      "Mean Absolute Error: 0.02373932529537589\n"
     ]
    }
   ],
   "source": [
    "targets = test[target_col][window_len:]\n",
    "preds = model.predict(X_test).squeeze()\n",
    "#print('MAE='mean_absolute_error(preds, y_test)\n",
    "print('Mean Absolute Error: {}'.format(mean_absolute_error(preds, y_test)))"
   ]
  },
  {
   "cell_type": "code",
   "execution_count": 40,
   "metadata": {},
   "outputs": [
    {
     "name": "stdout",
     "output_type": "stream",
     "text": [
      "Mean Squared Error: 0.0013245429897462717\n"
     ]
    }
   ],
   "source": [
    "print('Mean Squared Error: {}'.format(mean_squared_error(preds, y_test)))"
   ]
  },
  {
   "cell_type": "code",
   "execution_count": 43,
   "metadata": {},
   "outputs": [
    {
     "name": "stdout",
     "output_type": "stream",
     "text": [
      "Root Mean Squared Error: 0.036394271386390904\n"
     ]
    }
   ],
   "source": [
    "from math import sqrt\n",
    "root_mean_squared_error = sqrt(mean_squared_error(preds, y_test))\n",
    "print('Root Mean Squared Error: {}'.format(root_mean_squared_error))"
   ]
  },
  {
   "cell_type": "code",
   "execution_count": 32,
   "metadata": {
    "colab": {
     "base_uri": "https://localhost:8080/",
     "height": 428
    },
    "executionInfo": {
     "elapsed": 26154,
     "status": "ok",
     "timestamp": 1582898224096,
     "user": {
      "displayName": "Data Love",
      "photoUrl": "",
      "userId": "10408666643734934607"
     },
     "user_tz": -60
    },
    "id": "6E3SXfL8v7K4",
    "outputId": "a100445b-4c74-4932-97a5-aab00d574bda"
   },
   "outputs": [
    {
     "data": {
      "image/png": "[encoded data removed]",
      "text/plain": [
       "<Figure size 936x504 with 1 Axes>"
      ]
     },
     "metadata": {
      "needs_background": "light"
     },
     "output_type": "display_data"
    }
   ],
   "source": [
    "preds = test[target_col].values[:-window_len] * (preds + 1)\n",
    "preds = pd.Series(index=targets.index, data=preds)\n",
    "line_plot(targets, preds, 'actual', 'prediction', lw=3)"
   ]
  },
  {
   "cell_type": "code",
   "execution_count": 33,
   "metadata": {
    "colab": {
     "base_uri": "https://localhost:8080/",
     "height": 35
    },
    "executionInfo": {
     "elapsed": 1480,
     "status": "ok",
     "timestamp": 1582898448961,
     "user": {
      "displayName": "Data Love",
      "photoUrl": "",
      "userId": "10408666643734934607"
     },
     "user_tz": -60
    },
    "id": "_HAJeSUvwMT0",
    "outputId": "8a516325-4d0b-45ea-a2f7-a5a4a873871f"
   },
   "outputs": [
    {
     "data": {
      "text/plain": [
       "2.2638392097229256"
      ]
     },
     "execution_count": 33,
     "metadata": {},
     "output_type": "execute_result"
    }
   ],
   "source": [
    "def mean_absolute_percentage_error(targets, preds):\n",
    "    y_true, y_pred = np.array(targets), np.array(preds)\n",
    "    return np.mean(np.abs((targets - preds) / targets)) * 100\n",
    "mean_absolute_percentage_error(preds, targets)"
   ]
  },
  {
   "cell_type": "code",
   "execution_count": null,
   "metadata": {
    "id": "Zx4uQ0hl6tgn"
   },
   "outputs": [],
   "source": []
  }
 ],
 "metadata": {
  "colab": {
   "authorship_tag": "ABX9TyNK2adLKqPbxFy11ftAzsaz",
   "collapsed_sections": [],
   "name": "CryptoCurrency.ipynb",
   "provenance": []
  },
  "kernelspec": {
   "display_name": "Python 3",
   "language": "python",
   "name": "python3"
  },
  "language_info": {
   "codemirror_mode": {
    "name": "ipython",
    "version": 3
   },
   "file_extension": ".py",
   "mimetype": "text/x-python",
   "name": "python",
   "nbconvert_exporter": "python",
   "pygments_lexer": "ipython3",
   "version": "3.7.4"
  }
 },
 "nbformat": 4,
 "nbformat_minor": 1
}
